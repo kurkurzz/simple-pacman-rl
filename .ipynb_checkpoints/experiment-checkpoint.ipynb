{
 "cells": [
  {
   "cell_type": "markdown",
   "metadata": {},
   "source": [
    "## Imports"
   ]
  },
  {
   "cell_type": "code",
   "execution_count": 5,
   "metadata": {},
   "outputs": [],
   "source": [
    "import time\n",
    "import random\n",
    "import numpy as np\n",
    "import matplotlib.colors\n",
    "import matplotlib.pyplot as plt\n",
    "from queue import PriorityQueue\n",
    "import cv2\n",
    "import gym\n",
    "from gym import spaces\n",
    "from math import sqrt\n",
    "from stable_baselines3 import PPO"
   ]
  },
  {
   "cell_type": "code",
   "execution_count": 6,
   "metadata": {},
   "outputs": [],
   "source": [
    "def render(grid, agent_point=(0,0), end_point=(0,0), inline=False):\n",
    "    game_visual = np.zeros((grid.shape[0], grid.shape[0], 3), np.uint8)\n",
    "#     game_visual.fill(255)\n",
    "    wall_pos = np.where(grid==1)\n",
    "    for index, _ in enumerate(wall_pos[0]):\n",
    "        game_visual[wall_pos[0][index], wall_pos[1][index]] = (3, 78, 252) \n",
    "    \n",
    "    if not inline:\n",
    "        if agent_point == end_point:\n",
    "            game_visual[end_point[0], end_point[1]] = (0, 255, 0) \n",
    "\n",
    "        else:\n",
    "            game_visual[agent_point[0], agent_point[1]] = (255, 255, 255) \n",
    "            game_visual[end_point[0], end_point[1]] = (247, 235, 10) \n",
    "            \n",
    "        game_visual = cv2.cvtColor(game_visual, cv2.COLOR_RGB2BGR)\n",
    "        cv2.namedWindow(\"Pacman Simplified\", cv2.WINDOW_NORMAL)\n",
    "        cv2.resizeWindow(\"Pacman Simplified\", 500, 500)\n",
    "        cv2.imshow('Pacman Simplified', game_visual)\n",
    "        cv2.waitKey(1)\n",
    "    \n",
    "    return game_visual"
   ]
  },
  {
   "cell_type": "markdown",
   "metadata": {},
   "source": [
    "# Map Generation (Cellular Automata)"
   ]
  },
  {
   "cell_type": "markdown",
   "metadata": {},
   "source": [
    "## Map Generation"
   ]
  },
  {
   "cell_type": "code",
   "execution_count": 7,
   "metadata": {},
   "outputs": [],
   "source": [
    "class MapGenerationCA():\n",
    "    def __init__(self, grid_size=(30, 30)):\n",
    "        self.grid_size = grid_size\n",
    "        self.grid = np.zeros(grid_size)\n",
    "\n",
    "    def create_map_ca(self):\n",
    "        width = self.grid.shape[0]\n",
    "        height = self.grid.shape[1]\n",
    "\n",
    "        for i in range(width):\n",
    "            for j in range(height):\n",
    "                if (i == 0 or i == width-1 or j == 0 or j == height -1):\n",
    "                    self.grid[i][j]=1\n",
    "                else:\n",
    "                    if (random.randint(0,100)>70):\n",
    "                        self.grid[i][j]=1\n",
    "                    else:\n",
    "                        self.grid[i][j]=0\n",
    "\n",
    "        for i in range(1, width - 1):\n",
    "            for j in range(1, height - 1):\n",
    "                neighbors = [self.grid[i-1][j], self.grid[i+1][j], self.grid[i][j-1], self.grid[i][j+1]]\n",
    "                if sum(neighbors) < 2 :\n",
    "                    self.grid[i][j] = 0\n",
    "                elif sum(neighbors) >3:\n",
    "                    self.grid[i][j]=1\n",
    "\n",
    "        return self.grid"
   ]
  },
  {
   "cell_type": "code",
   "execution_count": 8,
   "metadata": {},
   "outputs": [
    {
     "data": {
      "text/plain": [
       "<matplotlib.image.AxesImage at 0x23e2cd57640>"
      ]
     },
     "execution_count": 8,
     "metadata": {},
     "output_type": "execute_result"
    },
    {
     "data": {
      "image/png": "[encoded data removed]",
      "text/plain": [
       "<Figure size 640x480 with 1 Axes>"
      ]
     },
     "metadata": {},
     "output_type": "display_data"
    }
   ],
   "source": [
    "map_generation_ca = MapGenerationCA()\n",
    "ca_map = map_generation_ca.create_map_ca()\n",
    "map_image = render(ca_map, inline=True)\n",
    "# map_image = cv2.cvtColor(map_image, cv2.COLOR_BGR2RGB)\n",
    "plt.imshow(map_image)"
   ]
  },
  {
   "cell_type": "markdown",
   "metadata": {},
   "source": [
    "# Map Generation (Drunkard Walk)"
   ]
  },
  {
   "cell_type": "markdown",
   "metadata": {},
   "source": [
    "## Map Generation"
   ]
  },
  {
   "cell_type": "code",
   "execution_count": 9,
   "metadata": {},
   "outputs": [],
   "source": [
    "class MapGenerationDW():\n",
    "    def __init__(self, grid_size=(30, 30)):\n",
    "        self.grid_size = grid_size\n",
    "\n",
    "    def create_map_dw(self, fill_percentage=70):\n",
    "        width = self.grid_size[0]\n",
    "        height = self.grid_size[1]\n",
    "        self.grid = np.ones(self.grid_size)\n",
    "        counter = 0\n",
    "\n",
    "        x = random.randint(1,width-2)\n",
    "        y = random.randint(1,height-2)\n",
    "\n",
    "        while(counter<((width-2)*(height-2)*fill_percentage/100)):\n",
    "\n",
    "            move = random.randint(0,3)\n",
    "            if((x!=0) & (x!=width-1) & (y!=0) & (y!=height-1)):\n",
    "                #UP\n",
    "                if(move==0):\n",
    "                    if((x>0) & (x<width-1) & (y+1>0) & (y+1<height-1)):\n",
    "                        y=y+1\n",
    "                #RIGHT\n",
    "                elif(move==1):\n",
    "                    if((x+1>0) & (x+1<width-1) & (y>0) & (y<height-1)):\n",
    "                        x=x+1\n",
    "                #DOWN\n",
    "                elif(move==2):\n",
    "                    if((x>0) & (x<width-1) & (y-1>0) & (y-1<height-1)):\n",
    "                        y=y-1\n",
    "                #LEFT\n",
    "                else:\n",
    "                    if((x-1>0) & (x-1<width-1) & (y>0) & (y<height-1)):\n",
    "                        x=x-1\n",
    "                if(self.grid[x,y] == 1):\n",
    "                    counter+=1\n",
    "                self.grid[x,y] = 0\n",
    "\n",
    "        return self.grid"
   ]
  },
  {
   "cell_type": "code",
   "execution_count": 10,
   "metadata": {},
   "outputs": [
    {
     "data": {
      "text/plain": [
       "<matplotlib.image.AxesImage at 0x23e2cd8d0a0>"
      ]
     },
     "execution_count": 10,
     "metadata": {},
     "output_type": "execute_result"
    },
    {
     "data": {
      "image/png": "[encoded data removed]",
      "text/plain": [
       "<Figure size 640x480 with 1 Axes>"
      ]
     },
     "metadata": {},
     "output_type": "display_data"
    }
   ],
   "source": [
    "map_generation_dw = MapGenerationDW()\n",
    "dw_map = map_generation_dw.create_map_dw()\n",
    "map_image = render(dw_map, inline=True)\n",
    "# map_image = cv2.cvtColor(map_image, cv2.COLOR_BGR2RGB)\n",
    "plt.imshow(map_image)"
   ]
  },
  {
   "cell_type": "markdown",
   "metadata": {},
   "source": [
    "# A Star Model"
   ]
  },
  {
   "cell_type": "code",
   "execution_count": 11,
   "metadata": {},
   "outputs": [],
   "source": [
    "class AStarNode:        \n",
    "    def __init__(self, x, y, prev_node=None):\n",
    "        self.x = x\n",
    "        self.y = y\n",
    "        self.prev_node = prev_node\n",
    "        self.gcost = 0\n",
    "        self.hcost = 0\n",
    "        self.fcost = 0\n",
    "\n",
    "    def calculate_fcost(self):\n",
    "        self.fcost = self.gcost + self.hcost"
   ]
  },
  {
   "cell_type": "code",
   "execution_count": 12,
   "metadata": {},
   "outputs": [],
   "source": [
    "class PathFinder:\n",
    "    def __init__(self, grid, start_point, end_point):\n",
    "        self.grid = grid\n",
    "        self.start_point = start_point\n",
    "        self.end_point = end_point\n",
    "        self.path = []\n",
    "\n",
    "    def find_path(self):\n",
    "        start_node = AStarNode(self.start_point[0], self.start_point[1])\n",
    "        end_node = AStarNode(self.end_point[0], self.end_point[1])\n",
    "        current_node = None\n",
    "\n",
    "        width = self.grid.shape[0]\n",
    "        height = self.grid.shape[1]\n",
    "        directions = [[-1, 0], [1, 0], [0, 1], [0, -1]]\n",
    "\n",
    "        start_node.gcost = 0\n",
    "        start_node.hcost = self.calculate_distance_cost(start_node, end_node)\n",
    "        start_node.calculate_fcost()\n",
    "\n",
    "        open_list = [start_node]\n",
    "        closed_list = []\n",
    "\n",
    "        while len(open_list) > 0:\n",
    "            current_node = self.get_lowest_cost_node(open_list)\n",
    "\n",
    "            if current_node.x == end_node.x and current_node.y == end_node.y:\n",
    "                break\n",
    "\n",
    "            open_list.remove(current_node)\n",
    "            closed_list.append(current_node)\n",
    "\n",
    "            for i in range(len(directions)):\n",
    "                next_x = current_node.x + directions[i][0]\n",
    "                next_y= current_node.y + directions[i][1]\n",
    "                next_node = AStarNode(next_x, next_y, current_node)\n",
    "\n",
    "                already_visited = any(node.x == next_node.x and node.y == next_node.y for node in closed_list)\n",
    "                same_coor_index = next((i for i, node in enumerate(open_list) if node.x == next_node.x and node.y == next_node.y), -1)\n",
    "\n",
    "                if 0 <= next_x < width and 0 <= next_y < height and not already_visited and self.grid[next_x][next_y] != 1:\n",
    "                    gcost = current_node.gcost + self.calculate_distance_cost(current_node, next_node)\n",
    "                    next_node.gcost = gcost\n",
    "\n",
    "                    hcost = self.calculate_distance_cost(next_node, end_node)\n",
    "                    next_node.hcost = hcost\n",
    "\n",
    "                    next_node.calculate_fcost()\n",
    "\n",
    "                    if same_coor_index == -1 or (next_node.fcost < open_list[same_coor_index].fcost):\n",
    "                        open_list.append(next_node)\n",
    "\n",
    "#         print(\"Current Position: \")\n",
    "#         print(current_node.x, current_node.y)\n",
    "\n",
    "        traverse_node = current_node.prev_node\n",
    "        path_distance = 0\n",
    "\n",
    "        if traverse_node is not None:\n",
    "            while traverse_node.prev_node is not None:\n",
    "                path_distance += 1\n",
    "                self.grid[traverse_node.x][traverse_node.y] = 2\n",
    "                traverse_node = traverse_node.prev_node\n",
    "        else:\n",
    "            print(\"traverseNode is None\")\n",
    "\n",
    "#         print(\"Shortest Path Distance: \", path_distance)\n",
    "\n",
    "        # Append the coordinates of each node to the path list\n",
    "        while current_node is not None:\n",
    "            self.path.append((current_node.x, current_node.y))\n",
    "            current_node = current_node.prev_node\n",
    "\n",
    "        # Reverse the list so that it starts from the start point and ends at the end point\n",
    "        self.path = self.path[::-1]\n",
    "#         print(\"Path taken: \")\n",
    "#         print(self.path)\n",
    "\n",
    "        return self.path\n",
    "\n",
    "    # The CalculateDistanceCost method takes two AStarNode objects as input and returns the Manhattan distance between the two nodes.\n",
    "    def calculate_distance_cost(self, a, b):\n",
    "        x_distance = abs(a.x - b.x)\n",
    "        y_distance = abs(a.y - b.y)\n",
    "\n",
    "        # Manhattan distance formula\n",
    "        distance = x_distance + y_distance\n",
    "\n",
    "        return distance\n",
    "\n",
    "    # The GetLowestCostNode method takes a list of AStarNode objects and returns the node with the lowest fCost (total cost = gCost + hCost)\n",
    "    def get_lowest_cost_node(self, path_list):\n",
    "        lowest_cost_node = path_list[0]\n",
    "\n",
    "        for i in range(1, len(path_list)):\n",
    "            if path_list[i].fcost < lowest_cost_node.fcost:\n",
    "                lowest_cost_node = path_list[i]\n",
    "\n",
    "        return lowest_cost_node"
   ]
  },
  {
   "cell_type": "markdown",
   "metadata": {},
   "source": [
    "# Reinforcement Learning"
   ]
  },
  {
   "cell_type": "code",
   "execution_count": 24,
   "metadata": {},
   "outputs": [],
   "source": [
    "class PacmanEnv(gym.Env):\n",
    "    metadata = {\"render_modes\": [\"human\", \"rgb_array\"], \"render_fps\": 4}\n",
    "\n",
    "    def __init__(self, grid, render_mode=None, ):\n",
    "        super(PacmanEnv, self).__init__()\n",
    "        self.grid = grid\n",
    "        \n",
    "        self.observation_space = spaces.MultiDiscrete([\n",
    "                self.grid.shape[0], # end_dist_x_left\n",
    "                self.grid.shape[0], # end_dist_x_right\n",
    "                self.grid.shape[1], # end_dist_y_top\n",
    "                self.grid.shape[1], # end_dist_y_bottom\n",
    "                4, #  prev_agent_action\n",
    "                self.grid.shape[0], # left_wall_dist\n",
    "                self.grid.shape[0], # right_wall_dist\n",
    "                self.grid.shape[1], # top_wall_dist\n",
    "                self.grid.shape[1], # bottom_wall_dist\n",
    "            ])\n",
    "\n",
    "        # We have 4 actions, corresponding to \"left\", \"up\", \"right\", \"down\"\n",
    "        self.action_space = spaces.Discrete(4)\n",
    "        \n",
    "    def get_interval_boundary_(self, walls, position):\n",
    "        lower_bound = 0\n",
    "        upper_bound = 0\n",
    "        for index, wall in enumerate(walls):\n",
    "            if wall < position:\n",
    "                lower_bound = wall\n",
    "                upper_bound = walls[index+1]\n",
    "\n",
    "        return lower_bound, upper_bound\n",
    "    \n",
    "    def reset(self, agent_position=None, end_position=None):\n",
    "        if agent_position is None and end_position is None:\n",
    "            while True:\n",
    "                start_point = [random.randint(0, 29), random.randint(0, 29)]\n",
    "                if self.grid[start_point[0]][start_point[1]] != 1:\n",
    "                    self.agent_position = start_point\n",
    "                    break\n",
    "\n",
    "            while True:\n",
    "                end_point = [random.randint(0, 29), random.randint(0, 29)]\n",
    "                if self.grid[end_point[0]][end_point[1]] != 1 and end_point != start_point:\n",
    "                    self.end_position = end_point\n",
    "                    break\n",
    "        else:\n",
    "            self.agent_position = agent_position\n",
    "            self.end_position = end_position\n",
    "            \n",
    "        self.score = 0\n",
    "        self.prev_reward = 0\n",
    "        self.action = 0\n",
    "        \n",
    "        self.done = False\n",
    "        \n",
    "        agent_x = max(0, self.agent_position[0])\n",
    "        agent_y = max(0, self.agent_position[1])\n",
    "        agent_end_dist_x = self.agent_position[0] - self.end_position[0] - 1\n",
    "        if agent_end_dist_x > 0:\n",
    "            end_distance_left = agent_end_dist_x\n",
    "            end_distance_right = 0\n",
    "        else:\n",
    "            end_distance_left = 0\n",
    "            end_distance_right = abs(agent_end_dist_x)\n",
    "        \n",
    "        agent_end_dist_y = self.agent_position[1] - self.end_position[1] - 1\n",
    "        if agent_end_dist_y > 0:\n",
    "            end_distance_top = agent_end_dist_y\n",
    "            end_distance_bottom = 0\n",
    "        else:\n",
    "            end_distance_top = 0\n",
    "            end_distance_bottom = abs(agent_end_dist_y)\n",
    "        \n",
    "        \n",
    "        self.prev_action = 0\n",
    "        horizontal_grid = self.grid[:, agent_y]\n",
    "        horizontal_wall_pos = np.where(horizontal_grid==1)[0]\n",
    "        horizontal_boundary = self.get_interval_boundary_(horizontal_wall_pos, agent_x)                                           \n",
    "        left_wall_dist = max(0, agent_x - horizontal_boundary[0] - 1)\n",
    "        right_wall_dist = max(0, horizontal_boundary[1] - agent_x - 1)\n",
    "        \n",
    "        vertical_grid = self.grid[agent_x, :]\n",
    "        vertical_wall_pos = np.where(vertical_grid==1)[0]\n",
    "        vertical_boundary = self.get_interval_boundary_(vertical_wall_pos, agent_y)\n",
    "        top_wall_dist = max(0, agent_y - vertical_boundary[0] - 1)\n",
    "        bottom_wall_dist = max(0, vertical_boundary[1] - agent_y - 1)\n",
    "\n",
    "        # create observation:\n",
    "        observation = [end_distance_left, end_distance_right, end_distance_top, end_distance_bottom, self.prev_action, \n",
    "                           left_wall_dist, right_wall_dist, top_wall_dist, bottom_wall_dist]\n",
    "        observation = np.array(observation)\n",
    "        return observation\n",
    "    \n",
    "    def step(self, action):\n",
    "        if action == 0:\n",
    "            self.agent_position[0] -= 1\n",
    "        elif action == 1:\n",
    "            self.agent_position[1] -= 1\n",
    "        elif action == 2:\n",
    "            self.agent_position[0] += 1\n",
    "        elif action == 3:\n",
    "            self.agent_position[1] += 1 \n",
    "        \n",
    "        # On collision on wall\n",
    "        if int(self.grid[self.agent_position[0], self.agent_position[1]]) == 1:\n",
    "            self.done = True\n",
    "            self.reward = -20\n",
    "        \n",
    "        # reward is based on the distance between pacman and pellet\n",
    "        grid_hypothenus = sqrt(self.grid.shape[0]**2 + self.grid.shape[1]**2)\n",
    "        pacman_pellet_distance = sqrt(abs(self.agent_position[0] - self.end_position[0])**2 + (self.agent_position[1] - self.end_position[1])**2)\n",
    "        \n",
    "        distance_ratio = pacman_pellet_distance/grid_hypothenus\n",
    "        if distance_ratio > 0.8:\n",
    "            self.total_reward = 1\n",
    "        elif distance_ratio > 0.6:\n",
    "            self.total_reward = 3\n",
    "        if distance_ratio > 0.4:\n",
    "            self.total_reward = 7\n",
    "        if distance_ratio > 0.2:\n",
    "            self.total_reward = 10\n",
    "        else:\n",
    "            self.total_reward = 15\n",
    "        \n",
    "        self.reward = self.total_reward - self.prev_reward\n",
    "        self.prev_reward = self.total_reward\n",
    "            \n",
    "        if self.agent_position == self.end_position:\n",
    "            self.reward = 20\n",
    "            self.done = True\n",
    "\n",
    "        agent_x = max(0, self.agent_position[0])\n",
    "        agent_y = max(0, self.agent_position[1])\n",
    "        agent_end_dist_x = self.agent_position[0] - self.end_position[0] - 1\n",
    "        if agent_end_dist_x > 0:\n",
    "            end_distance_left = agent_end_dist_x\n",
    "            end_distance_right = 0\n",
    "        else:\n",
    "            end_distance_left = 0\n",
    "            end_distance_right = abs(agent_end_dist_x)\n",
    "        \n",
    "        agent_end_dist_y = self.agent_position[1] - self.end_position[1] - 1\n",
    "        if agent_end_dist_y > 0:\n",
    "            end_distance_top = agent_end_dist_y\n",
    "            end_distance_bottom = 0\n",
    "        else:\n",
    "            end_distance_top = 0\n",
    "            end_distance_bottom = abs(agent_end_dist_y)\n",
    "        self.prev_action = action\n",
    "        \n",
    "        horizontal_grid = self.grid[:, agent_y]\n",
    "        horizontal_wall_pos = np.where(horizontal_grid==1)[0]\n",
    "        horizontal_boundary = self.get_interval_boundary_(horizontal_wall_pos, agent_x)                                           \n",
    "        left_wall_dist = max(0, agent_x - horizontal_boundary[0] - 1)\n",
    "        right_wall_dist = max(0, horizontal_boundary[1] - agent_x - 1)\n",
    "        \n",
    "        vertical_grid = self.grid[agent_x, :]\n",
    "        vertical_wall_pos = np.where(vertical_grid==1)[0]\n",
    "        vertical_boundary = self.get_interval_boundary_(vertical_wall_pos, agent_y)\n",
    "        top_wall_dist = max(0, agent_y - vertical_boundary[0] - 1)\n",
    "        bottom_wall_dist = max(0, vertical_boundary[1] - agent_y - 1)\n",
    "\n",
    "        # create observation:\n",
    "        observation = [end_distance_left, end_distance_right, end_distance_top, end_distance_bottom, self.prev_action, \n",
    "                           left_wall_dist, right_wall_dist, top_wall_dist, bottom_wall_dist]\n",
    "        observation = np.array(observation)\n",
    "        info = {}\n",
    "        \n",
    "        return observation, self.reward, self.done, info\n",
    "    \n",
    "    def render(self, step_count):\n",
    "        game_visual = np.zeros((self.grid.shape[0], self.grid.shape[1], 3), np.uint8)\n",
    "        wall_pos = np.where(self.grid==1)\n",
    "        for index, _ in enumerate(wall_pos[0]):\n",
    "            game_visual[wall_pos[0][index], wall_pos[1][index]] = (3, 78, 252)\n",
    "        \n",
    "        if self.agent_position == self.end_position:\n",
    "            game_visual[self.end_position[0], self.end_position[1]] = (0, 255, 0) \n",
    "            \n",
    "        else:\n",
    "            game_visual[self.agent_position[0], self.agent_position[1]] = (255, 255, 255) \n",
    "            game_visual[self.end_position[0], self.end_position[1]] = (247, 235, 10) \n",
    "            \n",
    "#         game_visual = game_visual.repeat(10, axis=0).repeat(2, axis=1)\n",
    "        game_visual = cv2.cvtColor(game_visual, cv2.COLOR_BGR2RGB)\n",
    "        cv2.namedWindow(\"Pacman Simplified\", cv2.WINDOW_NORMAL)\n",
    "        cv2.resizeWindow(\"Pacman Simplified\", 500, 500)\n",
    "        cv2.imshow('Pacman Simplified', game_visual)\n",
    "        cv2.waitKey(1)\n",
    "    \n",
    "    def close(self):\n",
    "        cv2.destroyAllWindows()\n",
    "        print('done')\n",
    "        pass"
   ]
  },
  {
   "cell_type": "markdown",
   "metadata": {},
   "source": [
    "## C.A Map (A Star vs Reinforcement Learning)"
   ]
  },
  {
   "cell_type": "code",
   "execution_count": 25,
   "metadata": {},
   "outputs": [
    {
     "name": "stdout",
     "output_type": "stream",
     "text": [
      "Start Point: \n",
      "(8, 24)\n",
      "End Point: \n",
      "(20, 26)\n"
     ]
    }
   ],
   "source": [
    "map_generation_ca = MapGenerationCA()\n",
    "ca_map = map_generation_ca.create_map_ca()\n",
    "\n",
    "while True:\n",
    "    start_point = (random.randint(0, 29), random.randint(0, 29))\n",
    "    if ca_map[start_point[0]][start_point[1]] != 1:\n",
    "        break\n",
    "\n",
    "while True:\n",
    "    end_point = (random.randint(0, 29), random.randint(0, 29))\n",
    "    if ca_map[end_point[0]][end_point[1]] != 1 and end_point != start_point:\n",
    "        break\n",
    "        \n",
    "print(\"Start Point: \")\n",
    "print(start_point)\n",
    "print(\"End Point: \")\n",
    "print(end_point)"
   ]
  },
  {
   "cell_type": "code",
   "execution_count": 26,
   "metadata": {},
   "outputs": [
    {
     "name": "stdout",
     "output_type": "stream",
     "text": [
      "Steps taken: 15\n"
     ]
    }
   ],
   "source": [
    "if ca_map[start_point[0]][start_point[1]] != 1 and ca_map[end_point[0]][end_point[1]] != 1:\n",
    "    # Call the A* function to find the path from the start to the end point\n",
    "    path_finder = PathFinder(ca_map, start_point, end_point)\n",
    "    path = path_finder.find_path()\n",
    "    \n",
    "    for agent_point in path:\n",
    "        render(ca_map, agent_point, end_point)\n",
    "        time.sleep(0.1)\n",
    "\n",
    "    time.sleep(2)\n",
    "    cv2.destroyAllWindows()\n",
    "\n",
    "    print(f'Steps taken: {len(path)}')\n",
    "else:\n",
    "    print(\"Start point or end point is on a wall. Please choose new coordinates.\")"
   ]
  },
  {
   "cell_type": "code",
   "execution_count": 27,
   "metadata": {},
   "outputs": [
    {
     "name": "stdout",
     "output_type": "stream",
     "text": [
      "Steps taken: 14\n",
      "done\n"
     ]
    }
   ],
   "source": [
    "model_new = PPO.load('rl_model.zip')\n",
    "env = PacmanEnv(ca_map)\n",
    "observation = env.reset(agent_position=[start_point[0], start_point[1]], end_position=[end_point[0], end_point[1]])\n",
    "done = False\n",
    "step_count = 0\n",
    "env.render(step_count)\n",
    "while not done:\n",
    "    action = model_new.predict(observation)[0]\n",
    "    observation, reward, done, info = env.step(action)\n",
    "    env.render(step_count)\n",
    "    time.sleep(0.1)\n",
    "    step_count+=1\n",
    "print(f'Steps taken: {step_count}')\n",
    "time.sleep(2)\n",
    "env.close()"
   ]
  },
  {
   "cell_type": "markdown",
   "metadata": {},
   "source": [
    "## Drunken Walk Map (A Star vs Reinforcement Learning)"
   ]
  },
  {
   "cell_type": "code",
   "execution_count": 41,
   "metadata": {},
   "outputs": [
    {
     "name": "stdout",
     "output_type": "stream",
     "text": [
      "Start Point: \n",
      "(24, 7)\n",
      "End Point: \n",
      "(1, 14)\n"
     ]
    }
   ],
   "source": [
    "map_generation_dw = MapGenerationDW()\n",
    "dw_map = map_generation_dw.create_map_dw()\n",
    "\n",
    "while True:\n",
    "    start_point = (random.randint(0, 29), random.randint(0, 29))\n",
    "    if dw_map[start_point[0]][start_point[1]] != 1:\n",
    "        break\n",
    "\n",
    "while True:\n",
    "    end_point = (random.randint(0, 29), random.randint(0, 29))\n",
    "    if dw_map[end_point[0]][end_point[1]] != 1 and end_point != start_point:\n",
    "        break\n",
    "        \n",
    "print(\"Start Point: \")\n",
    "print(start_point)\n",
    "print(\"End Point: \")\n",
    "print(end_point)"
   ]
  },
  {
   "cell_type": "code",
   "execution_count": 37,
   "metadata": {},
   "outputs": [
    {
     "data": {
      "text/plain": [
       "array([[1., 1., 1., 1., 1., 1., 1., 1., 1., 1., 1., 1., 1., 1., 1., 1.,\n",
       "        1., 1., 1., 1., 1., 1., 1., 1., 1., 1., 1., 1., 1., 1.],\n",
       "       [1., 0., 0., 0., 0., 0., 0., 0., 0., 0., 0., 0., 0., 0., 1., 0.,\n",
       "        0., 0., 0., 0., 1., 1., 1., 1., 1., 1., 1., 1., 1., 1.],\n",
       "       [1., 0., 0., 0., 0., 0., 0., 0., 0., 0., 0., 1., 0., 0., 0., 0.,\n",
       "        0., 0., 1., 1., 1., 1., 1., 1., 1., 1., 1., 1., 1., 1.],\n",
       "       [1., 0., 0., 0., 0., 0., 0., 0., 0., 0., 0., 0., 1., 1., 1., 0.,\n",
       "        1., 1., 1., 1., 1., 1., 1., 1., 1., 1., 1., 1., 1., 1.],\n",
       "       [1., 0., 0., 0., 0., 0., 0., 0., 0., 0., 0., 0., 1., 1., 1., 0.,\n",
       "        1., 0., 1., 1., 1., 1., 1., 1., 1., 1., 1., 1., 1., 1.],\n",
       "       [1., 0., 0., 0., 0., 0., 0., 0., 0., 0., 0., 1., 1., 1., 1., 1.,\n",
       "        1., 0., 1., 1., 1., 1., 1., 1., 1., 1., 1., 1., 1., 1.],\n",
       "       [1., 0., 0., 0., 0., 0., 0., 0., 0., 1., 1., 0., 0., 0., 1., 1.,\n",
       "        0., 0., 1., 1., 1., 1., 1., 1., 1., 1., 1., 1., 1., 1.],\n",
       "       [1., 0., 0., 0., 0., 0., 0., 0., 0., 0., 1., 0., 1., 0., 0., 0.,\n",
       "        0., 0., 1., 1., 1., 1., 1., 1., 1., 1., 1., 1., 1., 1.],\n",
       "       [1., 0., 0., 0., 0., 0., 0., 0., 0., 0., 0., 0., 1., 1., 1., 0.,\n",
       "        0., 1., 1., 1., 1., 1., 1., 1., 1., 1., 1., 1., 1., 1.],\n",
       "       [1., 0., 0., 0., 0., 0., 0., 0., 0., 0., 0., 0., 1., 1., 1., 0.,\n",
       "        1., 1., 1., 0., 0., 0., 0., 0., 0., 0., 0., 1., 1., 1.],\n",
       "       [1., 0., 0., 0., 0., 0., 0., 1., 0., 0., 0., 0., 1., 0., 0., 0.,\n",
       "        0., 0., 0., 0., 0., 0., 0., 0., 0., 1., 0., 0., 1., 1.],\n",
       "       [1., 1., 0., 1., 0., 0., 0., 0., 0., 0., 0., 0., 0., 0., 1., 0.,\n",
       "        1., 0., 0., 0., 0., 0., 0., 0., 0., 1., 1., 0., 0., 1.],\n",
       "       [1., 0., 0., 0., 0., 0., 0., 0., 0., 1., 1., 1., 1., 0., 1., 0.,\n",
       "        0., 0., 0., 0., 0., 0., 0., 0., 0., 0., 0., 0., 0., 1.],\n",
       "       [1., 0., 0., 0., 0., 0., 1., 1., 0., 1., 1., 1., 1., 0., 0., 0.,\n",
       "        0., 0., 0., 0., 0., 0., 0., 0., 0., 0., 0., 0., 0., 1.],\n",
       "       [1., 0., 1., 0., 0., 1., 1., 1., 0., 1., 1., 1., 1., 1., 0., 0.,\n",
       "        0., 0., 0., 0., 0., 0., 0., 0., 0., 0., 0., 0., 0., 1.],\n",
       "       [1., 0., 0., 0., 0., 0., 0., 0., 0., 1., 1., 1., 0., 1., 0., 0.,\n",
       "        0., 0., 0., 0., 0., 0., 0., 0., 0., 0., 0., 0., 0., 1.],\n",
       "       [1., 1., 1., 1., 1., 1., 0., 0., 0., 0., 1., 0., 0., 0., 0., 0.,\n",
       "        0., 0., 0., 0., 0., 0., 0., 0., 0., 0., 0., 0., 0., 1.],\n",
       "       [1., 1., 1., 1., 1., 1., 0., 0., 0., 1., 1., 0., 0., 0., 0., 0.,\n",
       "        0., 0., 0., 0., 0., 0., 0., 0., 0., 0., 0., 0., 0., 1.],\n",
       "       [1., 0., 0., 0., 1., 1., 0., 0., 0., 0., 0., 0., 0., 0., 0., 0.,\n",
       "        0., 0., 0., 0., 0., 0., 0., 0., 0., 0., 0., 0., 0., 1.],\n",
       "       [1., 0., 0., 0., 0., 0., 1., 0., 0., 0., 0., 0., 0., 0., 0., 0.,\n",
       "        0., 0., 0., 0., 0., 0., 0., 0., 0., 0., 0., 0., 0., 1.],\n",
       "       [1., 0., 0., 0., 1., 0., 0., 0., 0., 0., 0., 0., 0., 1., 1., 0.,\n",
       "        0., 0., 0., 0., 0., 0., 0., 0., 0., 0., 0., 0., 0., 1.],\n",
       "       [1., 0., 0., 0., 1., 1., 1., 1., 0., 0., 1., 1., 1., 1., 1., 0.,\n",
       "        0., 0., 0., 0., 0., 0., 0., 0., 0., 0., 0., 0., 0., 1.],\n",
       "       [1., 0., 0., 0., 0., 1., 1., 1., 0., 0., 0., 1., 1., 1., 0., 0.,\n",
       "        0., 0., 0., 0., 0., 0., 0., 0., 0., 0., 0., 0., 0., 1.],\n",
       "       [1., 0., 0., 0., 0., 1., 1., 1., 0., 1., 1., 1., 1., 0., 0., 0.,\n",
       "        0., 0., 0., 0., 0., 0., 0., 0., 0., 0., 0., 0., 0., 1.],\n",
       "       [1., 1., 0., 0., 1., 1., 1., 0., 0., 1., 1., 1., 1., 1., 0., 0.,\n",
       "        0., 0., 0., 0., 0., 0., 0., 0., 0., 0., 0., 0., 0., 1.],\n",
       "       [1., 1., 1., 0., 1., 1., 0., 0., 1., 1., 1., 1., 1., 1., 0., 0.,\n",
       "        0., 0., 0., 0., 0., 0., 0., 0., 0., 0., 0., 0., 0., 1.],\n",
       "       [1., 1., 0., 0., 0., 0., 0., 0., 1., 1., 1., 1., 1., 1., 0., 0.,\n",
       "        0., 0., 0., 0., 0., 0., 0., 0., 0., 0., 0., 0., 0., 1.],\n",
       "       [1., 0., 0., 0., 0., 0., 0., 1., 1., 1., 1., 1., 1., 0., 0., 0.,\n",
       "        0., 0., 0., 0., 0., 0., 0., 0., 0., 0., 0., 0., 0., 1.],\n",
       "       [1., 0., 0., 0., 0., 0., 0., 1., 1., 1., 1., 1., 1., 1., 0., 0.,\n",
       "        0., 0., 0., 0., 0., 0., 0., 0., 0., 0., 0., 0., 0., 1.],\n",
       "       [1., 1., 1., 1., 1., 1., 1., 1., 1., 1., 1., 1., 1., 1., 1., 1.,\n",
       "        1., 1., 1., 1., 1., 1., 1., 1., 1., 1., 1., 1., 1., 1.]])"
      ]
     },
     "execution_count": 37,
     "metadata": {},
     "output_type": "execute_result"
    }
   ],
   "source": [
    "dw_map"
   ]
  },
  {
   "cell_type": "code",
   "execution_count": 42,
   "metadata": {},
   "outputs": [
    {
     "name": "stdout",
     "output_type": "stream",
     "text": [
      "Steps taken: 37\n"
     ]
    }
   ],
   "source": [
    "if dw_map[start_point[0]][start_point[1]] != 1 and dw_map[end_point[0]][end_point[1]] != 1:\n",
    "    # Call the A* function to find the path from the start to the end point\n",
    "    path_finder = PathFinder(dw_map, start_point, end_point)\n",
    "    path = path_finder.find_path()\n",
    "    \n",
    "    for agent_point in path:\n",
    "        render(dw_map, agent_point, end_point)\n",
    "        time.sleep(0.1)\n",
    "\n",
    "    time.sleep(2)\n",
    "    cv2.destroyAllWindows()\n",
    "\n",
    "    print(f'Steps taken: {len(path)}')\n",
    "else:\n",
    "    print(\"Start point or end point is on a wall. Please choose new coordinates.\")"
   ]
  },
  {
   "cell_type": "code",
   "execution_count": 43,
   "metadata": {},
   "outputs": [
    {
     "name": "stdout",
     "output_type": "stream",
     "text": [
      "Steps taken: 150\n",
      "done\n"
     ]
    }
   ],
   "source": [
    "model_new = PPO.load('rl_model.zip')\n",
    "env = PacmanEnv(dw_map)\n",
    "observation = env.reset(agent_position=[start_point[0], start_point[1]], end_position=[end_point[0], end_point[1]])\n",
    "done = False\n",
    "step_count = 0\n",
    "env.render(step_count)\n",
    "while not done:\n",
    "    action = model_new.predict(observation)[0]\n",
    "    observation, reward, done, info = env.step(action)\n",
    "    env.render(step_count)\n",
    "    time.sleep(0.1)\n",
    "    step_count+=1\n",
    "print(f'Steps taken: {step_count}')\n",
    "time.sleep(2)\n",
    "env.close()"
   ]
  },
  {
   "cell_type": "markdown",
   "metadata": {},
   "source": [
    "# Explanation of the Code"
   ]
  },
  {
   "cell_type": "markdown",
   "metadata": {},
   "source": [
    "## Path Finder Class"
   ]
  },
  {
   "cell_type": "markdown",
   "metadata": {},
   "source": [
    "\"PathFinder\" that uses the A* algorithm to find the shortest path between a start point and an end point on a given map.\n",
    "\n",
    "The class has 3 instance variables:\n",
    "\n",
    "- \"map\": a 2D array representing the map, where 0 represents an empty cell and 1 represents an obstacle\n",
    "- \"startPoint\": a tuple containing the x, y coordinates of the starting point on the map\n",
    "- \"endPoint\": a tuple containing the x, y coordinates of the ending point on the map\n",
    "- \"path\": a list that will store the coordinates of each node in the path from start to end point\n",
    "- The class has three methods:\n",
    "\n",
    "- The init method initializes the instance variables when a new object of the class is created.\n",
    "- The FindPath method is where the A* algorithm is implemented. It uses the Manhattan distance formula to calculate the distance cost between two nodes and uses that cost to determine the best path from the start point to the end point.\n",
    "- The CalculateDistanceCost method takes two AStarNode objects as input and returns the Manhattan distance between the two nodes.\n",
    "- The GetLowestCostNode method takes a list of AStarNode objects and returns the node with the lowest fCost (total cost = gCost + hCost)\n",
    "\n",
    "The A* algorithm works by:\n",
    "\n",
    "1. Creating a start and end node from the start and end points passed to the class.\n",
    "2. Initializing the gCost (movement cost from the start node to the current node) and hCost (estimated movement cost from the current node to the end node) of the start node.\n",
    "3. Creating an open list and a closed list and adding the start node to the open list.\n",
    "4. While the open list is not empty:\n",
    "5. Getting the node with the lowest fCost (total cost) from the open list, this node will be the current node.\n",
    "6. If the current node is the end node, the algorithm has found the shortest path and the method returns the path.\n",
    "7. Removing the current node from the open list and adding it to the closed list.\n",
    "8. For each possible direction from the current node, checking if the next node is within the boundaries of the map, has not been visited before and is not an obstacle.\n",
    "9. If the next node is a valid node, calculating its gCost and hCost and adding it to the open list.\n",
    "10. If the next node is already in the open list and has a lower fCost than the current one, update the fCost and the parent of the node.\n",
    "11. When the open list is empty, the algorithm has not found a path.\n",
    "12. The path variable is filled with the nodes traversed in reverse order and returned.\n",
    "13. The path is plotted on the map using matplotlib."
   ]
  }
 ],
 "metadata": {
  "kernelspec": {
   "display_name": "Python 3 (ipykernel)",
   "language": "python",
   "name": "python3"
  },
  "language_info": {
   "codemirror_mode": {
    "name": "ipython",
    "version": 3
   },
   "file_extension": ".py",
   "mimetype": "text/x-python",
   "name": "python",
   "nbconvert_exporter": "python",
   "pygments_lexer": "ipython3",
   "version": "3.8.15"
  },
  "vscode": {
   "interpreter": {
    "hash": "81794d4967e6c3204c66dcd87b604927b115b27c00565d3d43f05ba2f3a2cb0d"
   }
  }
 },
 "nbformat": 4,
 "nbformat_minor": 2
}
